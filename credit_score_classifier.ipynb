{
 "cells": [
  {
   "cell_type": "code",
   "execution_count": null,
   "metadata": {},
   "outputs": [],
   "source": [
    "import random\n",
    "import pandas as pd\n",
    "import numpy as np\n",
    "import plotly.express as px\n",
    "import plotly.graph_objects as go\n",
    "import plotly.io as pio\n",
    "from sklearn.model_selection import train_test_split\n",
    "from sklearn.ensemble import RandomForestClassifier"
   ]
  },
  {
   "cell_type": "code",
   "execution_count": null,
   "metadata": {},
   "outputs": [],
   "source": [
    "pio.templates.default = 'plotly_white'"
   ]
  },
  {
   "cell_type": "code",
   "execution_count": null,
   "metadata": {},
   "outputs": [],
   "source": [
    "df = pd.read_csv('train.csv')"
   ]
  },
  {
   "cell_type": "code",
   "execution_count": null,
   "metadata": {},
   "outputs": [],
   "source": [
    "def box_plot(x_axis, y_axis):\n",
    "  fig = px.box(df, \n",
    "               x=x_axis, \n",
    "               y=y_axis,\n",
    "               color='Credit_Score',\n",
    "               title=f'{x_axis} Based on {y_axis}',\n",
    "               color_discrete_map={'Poor':'red',\n",
    "                                   'Standard':'yellow',\n",
    "                                   'Good':'green'})\n",
    "  fig.update_traces(quartilemethod='exclusive')\n",
    "  return fig.show()"
   ]
  },
  {
   "cell_type": "code",
   "execution_count": null,
   "metadata": {},
   "outputs": [],
   "source": [
    "def random_features():\n",
    "  annual_income = random.uniform(df['Annual_Income'].min(), df['Annual_Income'].max())\n",
    "  print(f'Annual Income: {\"{:.2f}\".format(annual_income)}')\n",
    "  \n",
    "  monthly_inhand_salary = annual_income / 12\n",
    "  print(f'Monthly Inhand Salary: {\"{:.2f}\".format(monthly_inhand_salary)}')\n",
    "  \n",
    "  num_bank_accounts = float(random.randint(df['Num_Bank_Accounts'].min(), df['Num_Bank_Accounts'].max()))\n",
    "  print(f'Number of Bank Accounts: {num_bank_accounts}')\n",
    "  \n",
    "  num_credit_cards = float(random.randint(df['Num_Credit_Card'].min(), num_bank_accounts))\n",
    "  print(f'Number of Credit Cards: {num_credit_cards}')\n",
    "  \n",
    "  interest_rate = float(random.randint(df['Interest_Rate'].min(), df['Interest_Rate'].max()))\n",
    "  print(f'Interest Rate: {interest_rate}')\n",
    "  \n",
    "  num_loans = float(random.randint(df['Num_of_Loan'].min(), df['Num_of_Loan'].max()))\n",
    "  print(f'Number of Loans: {num_loans}')\n",
    "  \n",
    "  avg_delay_days = float(random.randint(df['Delay_from_due_date'].min(), df['Delay_from_due_date'].max()))\n",
    "  print(f'Average Number of Days Delayed by the Person: {avg_delay_days}')\n",
    "  \n",
    "  num_delayed_payments = float(random.randint(df['Num_of_Delayed_Payment'].min(), df['Num_of_Delayed_Payment'].max()))\n",
    "  print(f'Number of Delayed Payments: {num_delayed_payments}')\n",
    "  \n",
    "  credit_mix = random.randint(0, 2)\n",
    "  print(f'Credit Mix (Bad: 0, Standard: 1, Good: 2): {credit_mix}')\n",
    "\n",
    "  outstanding_debt = random.uniform(df['Outstanding_Debt'].min(), df['Outstanding_Debt'].max())\n",
    "  print(f'Outstanding Debt: {\"{:.2f}\".format(outstanding_debt)}')\n",
    "  \n",
    "  credit_history_age = float(random.randint(df['Credit_History_Age'].min(), df['Credit_History_Age'].max()))\n",
    "  print(f'Credit History Age: {credit_history_age}')\n",
    "  \n",
    "  monthly_balance = random.uniform(df['Monthly_Balance'].min(), df['Monthly_Balance'].max())\n",
    "  print(f'Monthly Balance: {\"{:.2f}\".format(monthly_balance)}')\n",
    "\n",
    "  return np.array([[annual_income, monthly_inhand_salary, num_bank_accounts, num_credit_cards, interest_rate, num_loans, \n",
    "                    avg_delay_days, num_delayed_payments, credit_mix, outstanding_debt, credit_history_age, monthly_balance]])"
   ]
  },
  {
   "cell_type": "markdown",
   "metadata": {},
   "source": [
    "# Data Exploration"
   ]
  },
  {
   "cell_type": "markdown",
   "metadata": {},
   "source": [
    "O dataset possui muitos informações que podem treinar um modelo de Machine Learning para classificação de crédito. O objetivo é explorar todos os recursos que podem afetar essa classificação."
   ]
  },
  {
   "cell_type": "code",
   "execution_count": null,
   "metadata": {},
   "outputs": [],
   "source": [
    "fig = px.box(df, \n",
    "               x='Occupation', \n",
    "               color='Credit_Score',\n",
    "               title='Credit_Score Based on Occupation',\n",
    "               color_discrete_map={'Poor':'red',\n",
    "                                   'Standard':'yellow',\n",
    "                                   'Good':'green'})\n",
    "fig.show()"
   ]
  },
  {
   "cell_type": "code",
   "execution_count": null,
   "metadata": {},
   "outputs": [],
   "source": [
    "box_plot('Credit_Score', 'Annual_Income')"
   ]
  },
  {
   "cell_type": "code",
   "execution_count": null,
   "metadata": {},
   "outputs": [],
   "source": [
    "box_plot('Credit_Score', 'Monthly_Inhand_Salary')"
   ]
  },
  {
   "cell_type": "code",
   "execution_count": null,
   "metadata": {},
   "outputs": [],
   "source": [
    "box_plot('Credit_Score', 'Num_Bank_Accounts')"
   ]
  },
  {
   "cell_type": "code",
   "execution_count": null,
   "metadata": {},
   "outputs": [],
   "source": [
    "box_plot('Credit_Score', 'Num_Credit_Card')"
   ]
  },
  {
   "cell_type": "code",
   "execution_count": null,
   "metadata": {},
   "outputs": [],
   "source": [
    "box_plot('Credit_Score', 'Interest_Rate')"
   ]
  },
  {
   "cell_type": "code",
   "execution_count": null,
   "metadata": {},
   "outputs": [],
   "source": [
    "box_plot('Credit_Score', 'Num_of_Loan')"
   ]
  },
  {
   "cell_type": "code",
   "execution_count": null,
   "metadata": {},
   "outputs": [],
   "source": [
    "box_plot('Credit_Score', 'Delay_from_due_date')"
   ]
  },
  {
   "cell_type": "code",
   "execution_count": null,
   "metadata": {},
   "outputs": [],
   "source": [
    "box_plot('Credit_Score', 'Num_of_Delayed_Payment')"
   ]
  },
  {
   "cell_type": "code",
   "execution_count": null,
   "metadata": {},
   "outputs": [],
   "source": [
    "box_plot('Credit_Score', 'Outstanding_Debt')"
   ]
  },
  {
   "cell_type": "code",
   "execution_count": null,
   "metadata": {},
   "outputs": [],
   "source": [
    "box_plot('Credit_Score', 'Credit_Utilization_Ratio')"
   ]
  },
  {
   "cell_type": "code",
   "execution_count": null,
   "metadata": {},
   "outputs": [],
   "source": [
    "box_plot('Credit_Score', 'Credit_History_Age')"
   ]
  },
  {
   "cell_type": "code",
   "execution_count": null,
   "metadata": {},
   "outputs": [],
   "source": [
    "box_plot('Credit_Score', 'Total_EMI_per_month')"
   ]
  },
  {
   "cell_type": "code",
   "execution_count": null,
   "metadata": {},
   "outputs": [],
   "source": [
    "box_plot('Credit_Score', 'Amount_invested_monthly')"
   ]
  },
  {
   "cell_type": "code",
   "execution_count": null,
   "metadata": {},
   "outputs": [],
   "source": [
    "box_plot('Credit_Score', 'Monthly_Balance')"
   ]
  },
  {
   "cell_type": "markdown",
   "metadata": {},
   "source": [
    "# Modelo de classificação de crédito"
   ]
  },
  {
   "cell_type": "markdown",
   "metadata": {},
   "source": [
    "## Credit Mix"
   ]
  },
  {
   "cell_type": "markdown",
   "metadata": {},
   "source": [
    "Outra característica importante no dataset para determinar as pontuações de crédito é o Credit Mix. O Credit Mix informa sobre os tipos de créditos e empréstimos realizados."
   ]
  },
  {
   "cell_type": "code",
   "execution_count": null,
   "metadata": {},
   "outputs": [],
   "source": [
    "df['Credit_Mix'] = df['Credit_Mix'].map({'Bad': 0, \n",
    "                                         'Standard': 1, \n",
    "                                         'Good': 2})"
   ]
  },
  {
   "cell_type": "markdown",
   "metadata": {},
   "source": [
    "## Modelo"
   ]
  },
  {
   "cell_type": "code",
   "execution_count": null,
   "metadata": {},
   "outputs": [],
   "source": [
    "dataset_features = np.array(df[['Annual_Income', 'Monthly_Inhand_Salary', \n",
    "                   'Num_Bank_Accounts', 'Num_Credit_Card', \n",
    "                   'Interest_Rate', 'Num_of_Loan', \n",
    "                   'Delay_from_due_date', 'Num_of_Delayed_Payment', \n",
    "                   'Credit_Mix', 'Outstanding_Debt', \n",
    "                   'Credit_History_Age', 'Monthly_Balance']])\n",
    "dataset_target = np.array(df[['Credit_Score']])"
   ]
  },
  {
   "cell_type": "code",
   "execution_count": null,
   "metadata": {},
   "outputs": [],
   "source": [
    "x_train, x_test, y_train, y_test = train_test_split(dataset_features, dataset_target, \n",
    "                                                    test_size=0.33, \n",
    "                                                    random_state=42)"
   ]
  },
  {
   "cell_type": "code",
   "execution_count": null,
   "metadata": {},
   "outputs": [],
   "source": [
    "model = RandomForestClassifier()\n",
    "model.fit(x_train, y_train)"
   ]
  },
  {
   "cell_type": "code",
   "execution_count": null,
   "metadata": {},
   "outputs": [],
   "source": [
    "print(\"Credit Score Prediction: \")\n",
    "features = random_features()\n",
    "print(f'Predicted Credit Score: {model.predict(features)}')"
   ]
  }
 ],
 "metadata": {
  "kernelspec": {
   "display_name": "Python 3.10.9 ('.venv': poetry)",
   "language": "python",
   "name": "python3"
  },
  "language_info": {
   "codemirror_mode": {
    "name": "ipython",
    "version": 3
   },
   "file_extension": ".py",
   "mimetype": "text/x-python",
   "name": "python",
   "nbconvert_exporter": "python",
   "pygments_lexer": "ipython3",
   "version": "3.10.9"
  },
  "orig_nbformat": 4,
  "vscode": {
   "interpreter": {
    "hash": "67152f3da9299b65e87a899b22ad204b484be06c172d332e9db02af5e54a1a6c"
   }
  }
 },
 "nbformat": 4,
 "nbformat_minor": 2
}
